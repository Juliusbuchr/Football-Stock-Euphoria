{
 "cells": [
  {
   "cell_type": "markdown",
   "id": "fd0deb57",
   "metadata": {},
   "source": [
    "# Football stock euphoria? "
   ]
  },
  {
   "cell_type": "markdown",
   "id": "b0922099",
   "metadata": {},
   "source": [
    "I once heard a story of a guy who did the following: whenever the danish football season ended he bought up football stocks for danish listed football clubs, and then sold these again before the season then started again. Apparently this strategy should have worked well for him with the argument that football fans are euphoric up untill the start of the season thinking \"this season we will win!\". In this short article I will be testing whether there is any meaning to this. Spoiler alert: if there is I will probably not have this article as part of my Github repositories (sorry). "
   ]
  },
  {
   "cell_type": "code",
   "execution_count": 50,
   "id": "5a4d28b0",
   "metadata": {},
   "outputs": [],
   "source": [
    "# I have downloaded daily stock price data for the last 20 years for the danish football club Brøndby IF.\n",
    "# Let us load this data into a dataframe"
   ]
  },
  {
   "cell_type": "code",
   "execution_count": 51,
   "id": "54144a96",
   "metadata": {},
   "outputs": [],
   "source": [
    "import pandas as pd\n",
    "df = pd.read_csv(\"BIF-daily-returns.csv\")"
   ]
  },
  {
   "cell_type": "code",
   "execution_count": 52,
   "id": "ce2f6fb0",
   "metadata": {
    "scrolled": true
   },
   "outputs": [
    {
     "data": {
      "text/html": [
       "<div>\n",
       "<style scoped>\n",
       "    .dataframe tbody tr th:only-of-type {\n",
       "        vertical-align: middle;\n",
       "    }\n",
       "\n",
       "    .dataframe tbody tr th {\n",
       "        vertical-align: top;\n",
       "    }\n",
       "\n",
       "    .dataframe thead th {\n",
       "        text-align: right;\n",
       "    }\n",
       "</style>\n",
       "<table border=\"1\" class=\"dataframe\">\n",
       "  <thead>\n",
       "    <tr style=\"text-align: right;\">\n",
       "      <th></th>\n",
       "      <th>Date</th>\n",
       "      <th>Open</th>\n",
       "      <th>High</th>\n",
       "      <th>Low</th>\n",
       "      <th>Close</th>\n",
       "      <th>Adj Close</th>\n",
       "      <th>Volume</th>\n",
       "      <th>Returns</th>\n",
       "    </tr>\n",
       "  </thead>\n",
       "  <tbody>\n",
       "    <tr>\n",
       "      <th>0</th>\n",
       "      <td>03/01/2002</td>\n",
       "      <td>10.612131</td>\n",
       "      <td>10.612131</td>\n",
       "      <td>10.438162</td>\n",
       "      <td>10.438162</td>\n",
       "      <td>10.438162</td>\n",
       "      <td>10783</td>\n",
       "      <td>0.041667</td>\n",
       "    </tr>\n",
       "    <tr>\n",
       "      <th>1</th>\n",
       "      <td>04/01/2002</td>\n",
       "      <td>10.786101</td>\n",
       "      <td>10.873085</td>\n",
       "      <td>10.786101</td>\n",
       "      <td>10.873085</td>\n",
       "      <td>10.873085</td>\n",
       "      <td>5173</td>\n",
       "      <td>-0.024000</td>\n",
       "    </tr>\n",
       "    <tr>\n",
       "      <th>2</th>\n",
       "      <td>07/01/2002</td>\n",
       "      <td>10.438162</td>\n",
       "      <td>10.699116</td>\n",
       "      <td>10.438162</td>\n",
       "      <td>10.612131</td>\n",
       "      <td>10.612131</td>\n",
       "      <td>26337</td>\n",
       "      <td>-0.049180</td>\n",
       "    </tr>\n",
       "    <tr>\n",
       "      <th>3</th>\n",
       "      <td>08/01/2002</td>\n",
       "      <td>10.264193</td>\n",
       "      <td>10.264193</td>\n",
       "      <td>10.090223</td>\n",
       "      <td>10.090223</td>\n",
       "      <td>10.090223</td>\n",
       "      <td>13283</td>\n",
       "      <td>0.000000</td>\n",
       "    </tr>\n",
       "    <tr>\n",
       "      <th>4</th>\n",
       "      <td>09/01/2002</td>\n",
       "      <td>10.090223</td>\n",
       "      <td>10.090223</td>\n",
       "      <td>9.655300</td>\n",
       "      <td>10.090223</td>\n",
       "      <td>10.090223</td>\n",
       "      <td>52371</td>\n",
       "      <td>0.000000</td>\n",
       "    </tr>\n",
       "    <tr>\n",
       "      <th>...</th>\n",
       "      <td>...</td>\n",
       "      <td>...</td>\n",
       "      <td>...</td>\n",
       "      <td>...</td>\n",
       "      <td>...</td>\n",
       "      <td>...</td>\n",
       "      <td>...</td>\n",
       "      <td>...</td>\n",
       "    </tr>\n",
       "    <tr>\n",
       "      <th>5272</th>\n",
       "      <td>28/11/2022</td>\n",
       "      <td>0.545000</td>\n",
       "      <td>0.547000</td>\n",
       "      <td>0.540000</td>\n",
       "      <td>0.541000</td>\n",
       "      <td>0.541000</td>\n",
       "      <td>196125</td>\n",
       "      <td>0.007394</td>\n",
       "    </tr>\n",
       "    <tr>\n",
       "      <th>5273</th>\n",
       "      <td>29/11/2022</td>\n",
       "      <td>0.541000</td>\n",
       "      <td>0.545000</td>\n",
       "      <td>0.540000</td>\n",
       "      <td>0.545000</td>\n",
       "      <td>0.545000</td>\n",
       "      <td>78395</td>\n",
       "      <td>-0.009174</td>\n",
       "    </tr>\n",
       "    <tr>\n",
       "      <th>5274</th>\n",
       "      <td>30/11/2022</td>\n",
       "      <td>0.544000</td>\n",
       "      <td>0.545000</td>\n",
       "      <td>0.540000</td>\n",
       "      <td>0.540000</td>\n",
       "      <td>0.540000</td>\n",
       "      <td>187698</td>\n",
       "      <td>0.007407</td>\n",
       "    </tr>\n",
       "    <tr>\n",
       "      <th>5275</th>\n",
       "      <td>01/12/2022</td>\n",
       "      <td>0.540000</td>\n",
       "      <td>0.545000</td>\n",
       "      <td>0.531000</td>\n",
       "      <td>0.544000</td>\n",
       "      <td>0.544000</td>\n",
       "      <td>832741</td>\n",
       "      <td>-0.007353</td>\n",
       "    </tr>\n",
       "    <tr>\n",
       "      <th>5276</th>\n",
       "      <td>02/12/2022</td>\n",
       "      <td>0.543000</td>\n",
       "      <td>0.543000</td>\n",
       "      <td>0.537000</td>\n",
       "      <td>0.540000</td>\n",
       "      <td>0.540000</td>\n",
       "      <td>116630</td>\n",
       "      <td>NaN</td>\n",
       "    </tr>\n",
       "  </tbody>\n",
       "</table>\n",
       "<p>5277 rows × 8 columns</p>\n",
       "</div>"
      ],
      "text/plain": [
       "            Date       Open       High        Low      Close  Adj Close  \\\n",
       "0     03/01/2002  10.612131  10.612131  10.438162  10.438162  10.438162   \n",
       "1     04/01/2002  10.786101  10.873085  10.786101  10.873085  10.873085   \n",
       "2     07/01/2002  10.438162  10.699116  10.438162  10.612131  10.612131   \n",
       "3     08/01/2002  10.264193  10.264193  10.090223  10.090223  10.090223   \n",
       "4     09/01/2002  10.090223  10.090223   9.655300  10.090223  10.090223   \n",
       "...          ...        ...        ...        ...        ...        ...   \n",
       "5272  28/11/2022   0.545000   0.547000   0.540000   0.541000   0.541000   \n",
       "5273  29/11/2022   0.541000   0.545000   0.540000   0.545000   0.545000   \n",
       "5274  30/11/2022   0.544000   0.545000   0.540000   0.540000   0.540000   \n",
       "5275  01/12/2022   0.540000   0.545000   0.531000   0.544000   0.544000   \n",
       "5276  02/12/2022   0.543000   0.543000   0.537000   0.540000   0.540000   \n",
       "\n",
       "      Volume   Returns  \n",
       "0      10783  0.041667  \n",
       "1       5173 -0.024000  \n",
       "2      26337 -0.049180  \n",
       "3      13283  0.000000  \n",
       "4      52371  0.000000  \n",
       "...      ...       ...  \n",
       "5272  196125  0.007394  \n",
       "5273   78395 -0.009174  \n",
       "5274  187698  0.007407  \n",
       "5275  832741 -0.007353  \n",
       "5276  116630       NaN  \n",
       "\n",
       "[5277 rows x 8 columns]"
      ]
     },
     "execution_count": 52,
     "metadata": {},
     "output_type": "execute_result"
    }
   ],
   "source": [
    "# Taking a look at our data \n",
    "df"
   ]
  },
  {
   "cell_type": "code",
   "execution_count": 53,
   "id": "43f6698f",
   "metadata": {},
   "outputs": [],
   "source": [
    "# We should only care about date and the daily return so lets drop the remaining parts"
   ]
  },
  {
   "cell_type": "code",
   "execution_count": 54,
   "id": "0b855bf9",
   "metadata": {
    "scrolled": true
   },
   "outputs": [],
   "source": [
    "df = df.drop([\"Open\", \"High\", \"Low\", \"Close\", \"Adj Close\", \"Volume\"], axis=1)\n",
    "df = df.dropna()"
   ]
  },
  {
   "cell_type": "code",
   "execution_count": 55,
   "id": "94a2cd6c",
   "metadata": {
    "scrolled": false
   },
   "outputs": [
    {
     "data": {
      "text/html": [
       "<div>\n",
       "<style scoped>\n",
       "    .dataframe tbody tr th:only-of-type {\n",
       "        vertical-align: middle;\n",
       "    }\n",
       "\n",
       "    .dataframe tbody tr th {\n",
       "        vertical-align: top;\n",
       "    }\n",
       "\n",
       "    .dataframe thead th {\n",
       "        text-align: right;\n",
       "    }\n",
       "</style>\n",
       "<table border=\"1\" class=\"dataframe\">\n",
       "  <thead>\n",
       "    <tr style=\"text-align: right;\">\n",
       "      <th></th>\n",
       "      <th>Date</th>\n",
       "      <th>Returns</th>\n",
       "    </tr>\n",
       "  </thead>\n",
       "  <tbody>\n",
       "    <tr>\n",
       "      <th>0</th>\n",
       "      <td>03/01/2002</td>\n",
       "      <td>0.041667</td>\n",
       "    </tr>\n",
       "    <tr>\n",
       "      <th>1</th>\n",
       "      <td>04/01/2002</td>\n",
       "      <td>-0.024000</td>\n",
       "    </tr>\n",
       "    <tr>\n",
       "      <th>2</th>\n",
       "      <td>07/01/2002</td>\n",
       "      <td>-0.049180</td>\n",
       "    </tr>\n",
       "    <tr>\n",
       "      <th>3</th>\n",
       "      <td>08/01/2002</td>\n",
       "      <td>0.000000</td>\n",
       "    </tr>\n",
       "    <tr>\n",
       "      <th>4</th>\n",
       "      <td>09/01/2002</td>\n",
       "      <td>0.000000</td>\n",
       "    </tr>\n",
       "  </tbody>\n",
       "</table>\n",
       "</div>"
      ],
      "text/plain": [
       "         Date   Returns\n",
       "0  03/01/2002  0.041667\n",
       "1  04/01/2002 -0.024000\n",
       "2  07/01/2002 -0.049180\n",
       "3  08/01/2002  0.000000\n",
       "4  09/01/2002  0.000000"
      ]
     },
     "execution_count": 55,
     "metadata": {},
     "output_type": "execute_result"
    }
   ],
   "source": [
    "df.head()"
   ]
  },
  {
   "cell_type": "code",
   "execution_count": 56,
   "id": "c573568a",
   "metadata": {
    "scrolled": true
   },
   "outputs": [
    {
     "data": {
      "text/plain": [
       "<AxesSubplot:title={'center':'Daily returns BIF'}>"
      ]
     },
     "execution_count": 56,
     "metadata": {},
     "output_type": "execute_result"
    },
    {
     "data": {
      "image/png": "[encoded data removed]",
      "text/plain": [
       "<Figure size 640x480 with 1 Axes>"
      ]
     },
     "metadata": {},
     "output_type": "display_data"
    }
   ],
   "source": [
    "# Plotting daily returns\n",
    "\n",
    "from matplotlib import pyplot as plt \n",
    "\n",
    "%matplotlib inline\n",
    "\n",
    "df[\"Returns\"].plot(title=\"Daily returns BIF\")"
   ]
  },
  {
   "cell_type": "code",
   "execution_count": 57,
   "id": "fc3e175d",
   "metadata": {},
   "outputs": [],
   "source": [
    "# It seems like we have a very extreme observation for one of the days, so lets get rid of this\n",
    "\n",
    "df.drop(df.loc[df['Returns']>1.2].index, inplace=True)"
   ]
  },
  {
   "cell_type": "code",
   "execution_count": 58,
   "id": "ed14bdf3",
   "metadata": {},
   "outputs": [],
   "source": [
    "# Let us now split our dataset into two different parts to compare them.\n",
    "# We will need to work with months, so let us first split the dataframe date format so that we have months isolated"
   ]
  },
  {
   "cell_type": "code",
   "execution_count": 59,
   "id": "0a735b80",
   "metadata": {
    "scrolled": false
   },
   "outputs": [
    {
     "data": {
      "text/html": [
       "<div>\n",
       "<style scoped>\n",
       "    .dataframe tbody tr th:only-of-type {\n",
       "        vertical-align: middle;\n",
       "    }\n",
       "\n",
       "    .dataframe tbody tr th {\n",
       "        vertical-align: top;\n",
       "    }\n",
       "\n",
       "    .dataframe thead th {\n",
       "        text-align: right;\n",
       "    }\n",
       "</style>\n",
       "<table border=\"1\" class=\"dataframe\">\n",
       "  <thead>\n",
       "    <tr style=\"text-align: right;\">\n",
       "      <th></th>\n",
       "      <th>Date</th>\n",
       "      <th>Returns</th>\n",
       "      <th>Day</th>\n",
       "      <th>Month</th>\n",
       "      <th>Year</th>\n",
       "    </tr>\n",
       "  </thead>\n",
       "  <tbody>\n",
       "    <tr>\n",
       "      <th>0</th>\n",
       "      <td>03/01/2002</td>\n",
       "      <td>0.041667</td>\n",
       "      <td>03</td>\n",
       "      <td>01</td>\n",
       "      <td>2002</td>\n",
       "    </tr>\n",
       "    <tr>\n",
       "      <th>1</th>\n",
       "      <td>04/01/2002</td>\n",
       "      <td>-0.024000</td>\n",
       "      <td>04</td>\n",
       "      <td>01</td>\n",
       "      <td>2002</td>\n",
       "    </tr>\n",
       "    <tr>\n",
       "      <th>2</th>\n",
       "      <td>07/01/2002</td>\n",
       "      <td>-0.049180</td>\n",
       "      <td>07</td>\n",
       "      <td>01</td>\n",
       "      <td>2002</td>\n",
       "    </tr>\n",
       "    <tr>\n",
       "      <th>3</th>\n",
       "      <td>08/01/2002</td>\n",
       "      <td>0.000000</td>\n",
       "      <td>08</td>\n",
       "      <td>01</td>\n",
       "      <td>2002</td>\n",
       "    </tr>\n",
       "    <tr>\n",
       "      <th>4</th>\n",
       "      <td>09/01/2002</td>\n",
       "      <td>0.000000</td>\n",
       "      <td>09</td>\n",
       "      <td>01</td>\n",
       "      <td>2002</td>\n",
       "    </tr>\n",
       "  </tbody>\n",
       "</table>\n",
       "</div>"
      ],
      "text/plain": [
       "         Date   Returns Day Month  Year\n",
       "0  03/01/2002  0.041667  03    01  2002\n",
       "1  04/01/2002 -0.024000  04    01  2002\n",
       "2  07/01/2002 -0.049180  07    01  2002\n",
       "3  08/01/2002  0.000000  08    01  2002\n",
       "4  09/01/2002  0.000000  09    01  2002"
      ]
     },
     "execution_count": 59,
     "metadata": {},
     "output_type": "execute_result"
    }
   ],
   "source": [
    "df[['Day','Month', 'Year']] = df['Date'].str.split('/',expand=True)\n",
    "df.head()"
   ]
  },
  {
   "cell_type": "code",
   "execution_count": 60,
   "id": "f21650c4",
   "metadata": {},
   "outputs": [
    {
     "data": {
      "text/plain": [
       "(          Date   Returns Day Month  Year\n",
       " 62  01/04/2002  0.087719  01    04  2002\n",
       " 63  02/04/2002  0.024194  02    04  2002\n",
       " 64  03/04/2002  0.039370  03    04  2002\n",
       " 65  04/04/2002  0.068182  04    04  2002\n",
       " 66  05/04/2002 -0.063830  05    04  2002,\n",
       "          Date   Returns Day Month  Year\n",
       " 0  03/01/2002  0.041667  03    01  2002\n",
       " 1  04/01/2002 -0.024000  04    01  2002\n",
       " 2  07/01/2002 -0.049180  07    01  2002\n",
       " 3  08/01/2002  0.000000  08    01  2002\n",
       " 4  09/01/2002  0.000000  09    01  2002)"
      ]
     },
     "execution_count": 60,
     "metadata": {},
     "output_type": "execute_result"
    }
   ],
   "source": [
    "df1 = df.loc[df[\"Month\"].isin([\"04\", \"05\", \"06\"])]\n",
    "df2 = df.loc[df[\"Month\"].isin([\"01\", \"02\", \"03\", \"07\", \"08\", \"09\", \"10\", \"11\", \"12\"])]\n",
    "df1.head(), df2.head()"
   ]
  },
  {
   "cell_type": "code",
   "execution_count": 61,
   "id": "af6a43ec",
   "metadata": {},
   "outputs": [],
   "source": [
    "# We now have two datasets we can compare. One for the period after and up untill the season start and one during the season."
   ]
  },
  {
   "cell_type": "code",
   "execution_count": 62,
   "id": "dab6f880",
   "metadata": {
    "scrolled": true
   },
   "outputs": [
    {
     "data": {
      "text/plain": [
       "<BarContainer object of 2 artists>"
      ]
     },
     "execution_count": 62,
     "metadata": {},
     "output_type": "execute_result"
    },
    {
     "data": {
      "image/png": "[encoded data removed]",
      "text/plain": [
       "<Figure size 640x480 with 1 Axes>"
      ]
     },
     "metadata": {},
     "output_type": "display_data"
    }
   ],
   "source": [
    "# Creating data for a mean return bar plot to see if there are any meaningful deviations\n",
    "\n",
    "x = [\"During Season Mean Return\", \"Off Season Mean Return\"]\n",
    "y = []\n",
    "\n",
    "during_season_returns = df1[\"Returns\"].mean()\n",
    "off_season_returns = df2[\"Returns\"].mean()\n",
    "\n",
    "y.append(during_season_returns)\n",
    "y.append(off_season_returns)\n",
    "\n",
    "plt.bar(x,y, color = [\"blue\", \"red\"])"
   ]
  },
  {
   "cell_type": "code",
   "execution_count": 63,
   "id": "c78758bd",
   "metadata": {
    "scrolled": true
   },
   "outputs": [
    {
     "data": {
      "image/png": "[encoded data removed]",
      "text/plain": [
       "<Figure size 700x500 with 1 Axes>"
      ]
     },
     "metadata": {},
     "output_type": "display_data"
    }
   ],
   "source": [
    "# Creating a histogram plot to see if there is deviations of return distribution\n",
    "\n",
    "%matplotlib inline\n",
    "fig = plt.figure(figsize=(7, 5))\n",
    "ax1 = fig.add_subplot(1, 1, 1)\n",
    "df2['Returns'].hist(bins=50, ax=ax1)\n",
    "df1['Returns'].hist(bins=50, ax=ax1)\n",
    "ax1.set_xlabel('Return')\n",
    "ax1.set_ylabel('Sample')\n",
    "ax1.set_title('Return distribution')\n",
    "plt.show()"
   ]
  },
  {
   "cell_type": "code",
   "execution_count": 64,
   "id": "7eddd60d",
   "metadata": {},
   "outputs": [],
   "source": [
    "# Okay so it might seem like we actually have a higher return when buying in the off season.\n",
    "# Let us backtest the strategy with a balance. First, take a look at the graphs"
   ]
  },
  {
   "cell_type": "code",
   "execution_count": 65,
   "id": "9aee1491",
   "metadata": {},
   "outputs": [
    {
     "data": {
      "text/plain": [
       "Text(0.5, 1.0, 'Wealth development of the two strategies')"
      ]
     },
     "execution_count": 65,
     "metadata": {},
     "output_type": "execute_result"
    },
    {
     "data": {
      "image/png": "[encoded data removed]",
      "text/plain": [
       "<Figure size 640x480 with 1 Axes>"
      ]
     },
     "metadata": {},
     "output_type": "display_data"
    }
   ],
   "source": [
    "# Initializing wealth as a list containing the start wealth only \n",
    "\n",
    "wealth_off = [1]\n",
    "wealth_season = [1]\n",
    "\n",
    "# Creating lists with the returns for each period from our dataframes\n",
    "\n",
    "off_season_returns = df1[\"Returns\"].values.tolist()\n",
    "in_season_returns = df2[\"Returns\"].values.tolist()\n",
    "\n",
    "# Calculating wealth from each time iteration. Note that we do it only for t = 1000 even though we have more data. \n",
    "\n",
    "for i in range(1000):\n",
    "    wealth_off.append((1+off_season_returns[i])*wealth_off[i])\n",
    "    \n",
    "for i in range(1000):\n",
    "    wealth_season.append((1+in_season_returns[i])*wealth_season[i])\n",
    "\n",
    "# Creating emtpy lists for time on our plot's x-axis and appending with lenght of wealth-data\n",
    "    \n",
    "time_off = []\n",
    "time_season = []\n",
    "    \n",
    "for i in range(len(wealth_off)):\n",
    "    i = i + 1\n",
    "    time_off.append(i)\n",
    "    \n",
    "for i in range(len(wealth_season)):\n",
    "    i = i + 1 \n",
    "    time_season.append(i)\n",
    "    \n",
    "# Plotting our data\n",
    "\n",
    "plt.plot(time_season, wealth_season, color=\"red\")\n",
    "plt.plot(time_off, wealth_off, color=\"blue\")\n",
    "plt.xlabel(\"Time in trading days\")\n",
    "plt.ylabel(\"Wealth with index 1 at time 0\")\n",
    "plt.title(\"Wealth development of the two strategies\")"
   ]
  },
  {
   "cell_type": "markdown",
   "id": "711b45de",
   "metadata": {},
   "source": [
    "# Conclusion "
   ]
  },
  {
   "cell_type": "markdown",
   "id": "605efcad",
   "metadata": {},
   "source": [
    "It definitely seems like this trading strategy is not doable, and the guy I heard about might have just been lucky.\n",
    "\n",
    "I must say I thought this might actually work when I saw the positive mean return (the bar chart). However, when looking at the simulated wealth development of the strategies it becomes apparent that it cannot be done. \n",
    "\n",
    "However, steps could of course be taken towards perfecting this analysis. I have perhaps divided the time periods way too roughly as seasons might also start/stop at different times. Also, I am only looking at data for one football club while a more rigerous analysis would have to include multiple. "
   ]
  },
  {
   "cell_type": "code",
   "execution_count": null,
   "id": "d57b8332",
   "metadata": {},
   "outputs": [],
   "source": []
  },
  {
   "cell_type": "code",
   "execution_count": null,
   "id": "23d91273",
   "metadata": {},
   "outputs": [],
   "source": []
  },
  {
   "cell_type": "code",
   "execution_count": null,
   "id": "a5104f1d",
   "metadata": {},
   "outputs": [],
   "source": []
  },
  {
   "cell_type": "code",
   "execution_count": null,
   "id": "1a30a9e2",
   "metadata": {},
   "outputs": [],
   "source": []
  },
  {
   "cell_type": "code",
   "execution_count": null,
   "id": "e1f21fca",
   "metadata": {},
   "outputs": [],
   "source": []
  },
  {
   "cell_type": "code",
   "execution_count": null,
   "id": "83f7f476",
   "metadata": {},
   "outputs": [],
   "source": []
  },
  {
   "cell_type": "code",
   "execution_count": null,
   "id": "042291cc",
   "metadata": {},
   "outputs": [],
   "source": []
  },
  {
   "cell_type": "code",
   "execution_count": null,
   "id": "eb23fe73",
   "metadata": {},
   "outputs": [],
   "source": []
  },
  {
   "cell_type": "code",
   "execution_count": null,
   "id": "899c608d",
   "metadata": {},
   "outputs": [],
   "source": []
  },
  {
   "cell_type": "code",
   "execution_count": null,
   "id": "67964e21",
   "metadata": {},
   "outputs": [],
   "source": []
  },
  {
   "cell_type": "code",
   "execution_count": null,
   "id": "7d84ebfd",
   "metadata": {},
   "outputs": [],
   "source": []
  },
  {
   "cell_type": "code",
   "execution_count": null,
   "id": "dc5345a0",
   "metadata": {},
   "outputs": [],
   "source": []
  },
  {
   "cell_type": "code",
   "execution_count": null,
   "id": "fa453454",
   "metadata": {},
   "outputs": [],
   "source": []
  },
  {
   "cell_type": "code",
   "execution_count": null,
   "id": "4f2ccdd7",
   "metadata": {},
   "outputs": [],
   "source": []
  },
  {
   "cell_type": "code",
   "execution_count": null,
   "id": "c7c54f53",
   "metadata": {},
   "outputs": [],
   "source": []
  },
  {
   "cell_type": "code",
   "execution_count": null,
   "id": "ae94a8cf",
   "metadata": {},
   "outputs": [],
   "source": []
  },
  {
   "cell_type": "code",
   "execution_count": null,
   "id": "7d6a080a",
   "metadata": {},
   "outputs": [],
   "source": []
  },
  {
   "cell_type": "code",
   "execution_count": null,
   "id": "513afba7",
   "metadata": {},
   "outputs": [],
   "source": []
  },
  {
   "cell_type": "code",
   "execution_count": null,
   "id": "297110b9",
   "metadata": {},
   "outputs": [],
   "source": []
  },
  {
   "cell_type": "code",
   "execution_count": null,
   "id": "3de4e555",
   "metadata": {},
   "outputs": [],
   "source": []
  },
  {
   "cell_type": "code",
   "execution_count": null,
   "id": "235c9dcb",
   "metadata": {},
   "outputs": [],
   "source": []
  },
  {
   "cell_type": "code",
   "execution_count": null,
   "id": "bea26707",
   "metadata": {},
   "outputs": [],
   "source": []
  },
  {
   "cell_type": "code",
   "execution_count": null,
   "id": "64184192",
   "metadata": {},
   "outputs": [],
   "source": []
  }
 ],
 "metadata": {
  "kernelspec": {
   "display_name": "Python 3 (ipykernel)",
   "language": "python",
   "name": "python3"
  },
  "language_info": {
   "codemirror_mode": {
    "name": "ipython",
    "version": 3
   },
   "file_extension": ".py",
   "mimetype": "text/x-python",
   "name": "python",
   "nbconvert_exporter": "python",
   "pygments_lexer": "ipython3",
   "version": "3.9.13"
  }
 },
 "nbformat": 4,
 "nbformat_minor": 5
}
